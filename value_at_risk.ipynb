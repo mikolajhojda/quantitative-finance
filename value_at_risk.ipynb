{
 "cells": [
  {
   "cell_type": "markdown",
   "id": "3d03ec76",
   "metadata": {
    "papermill": {
     "duration": 0.009175,
     "end_time": "2024-02-12T10:03:57.421689",
     "exception": false,
     "start_time": "2024-02-12T10:03:57.412514",
     "status": "completed"
    },
    "tags": []
   },
   "source": [
    "# Value at Risk (VaR) using historical method for a one-asset and portfolio"
   ]
  },
  {
   "cell_type": "markdown",
   "id": "cf772f9d",
   "metadata": {
    "papermill": {
     "duration": 0.007378,
     "end_time": "2024-02-12T10:03:57.437180",
     "exception": false,
     "start_time": "2024-02-12T10:03:57.429802",
     "status": "completed"
    },
    "tags": []
   },
   "source": [
    "\"**Value at risk (VaR)** is a statistic that quantifies the extent of possible financial losses within a firm, portfolio, or position over a specific time frame. This metric is most commonly used by investment and commercial banks to determine the extent and probabilities of potential losses in their institutional portfolios. Risk managers use VaR to measure and control the level of risk exposure. One can apply VaR calculations to specific positions or whole portfolios or use them to measure firm-wide risk exposure.\n",
    "\n",
    "The **historical method** looks at one’s prior returns history and orders them from worst losses to greatest gains—following from the premise that past returns experience will inform future outcomes.\n",
    "\n",
    "**Monte Carlo simulation** uses computational models to simulate projected returns over hundreds or thousands of possible iterations.\"\n",
    "\n",
    "Source: https://www.investopedia.com/terms/v/var.asp"
   ]
  },
  {
   "cell_type": "code",
   "execution_count": 1,
   "id": "833a8c2b",
   "metadata": {
    "_kg_hide-input": true,
    "_kg_hide-output": true,
    "execution": {
     "iopub.execute_input": "2024-02-12T10:03:57.454592Z",
     "iopub.status.busy": "2024-02-12T10:03:57.453997Z",
     "iopub.status.idle": "2024-02-12T10:04:39.198604Z",
     "shell.execute_reply": "2024-02-12T10:04:39.197272Z"
    },
    "papermill": {
     "duration": 41.757006,
     "end_time": "2024-02-12T10:04:39.201723",
     "exception": false,
     "start_time": "2024-02-12T10:03:57.444717",
     "status": "completed"
    },
    "tags": []
   },
   "outputs": [
    {
     "name": "stdout",
     "output_type": "stream",
     "text": [
      "Collecting yfinance\r\n",
      "  Downloading yfinance-0.2.36-py2.py3-none-any.whl.metadata (11 kB)\r\n",
      "Requirement already satisfied: pandas>=1.3.0 in /opt/conda/lib/python3.10/site-packages (from yfinance) (2.2.0)\r\n",
      "Requirement already satisfied: numpy>=1.16.5 in /opt/conda/lib/python3.10/site-packages (from yfinance) (1.24.4)\r\n",
      "Requirement already satisfied: requests>=2.31 in /opt/conda/lib/python3.10/site-packages (from yfinance) (2.31.0)\r\n",
      "Collecting multitasking>=0.0.7 (from yfinance)\r\n",
      "  Downloading multitasking-0.0.11-py3-none-any.whl (8.5 kB)\r\n",
      "Requirement already satisfied: lxml>=4.9.1 in /opt/conda/lib/python3.10/site-packages (from yfinance) (5.1.0)\r\n",
      "Requirement already satisfied: appdirs>=1.4.4 in /opt/conda/lib/python3.10/site-packages (from yfinance) (1.4.4)\r\n",
      "Requirement already satisfied: pytz>=2022.5 in /opt/conda/lib/python3.10/site-packages (from yfinance) (2023.3.post1)\r\n",
      "Requirement already satisfied: frozendict>=2.3.4 in /opt/conda/lib/python3.10/site-packages (from yfinance) (2.4.0)\r\n",
      "Collecting peewee>=3.16.2 (from yfinance)\r\n",
      "  Downloading peewee-3.17.1.tar.gz (3.0 MB)\r\n",
      "\u001b[2K     \u001b[90m━━━━━━━━━━━━━━━━━━━━━━━━━━━━━━━━━━━━━━━━\u001b[0m \u001b[32m3.0/3.0 MB\u001b[0m \u001b[31m26.8 MB/s\u001b[0m eta \u001b[36m0:00:00\u001b[0m\r\n",
      "\u001b[?25h  Installing build dependencies ... \u001b[?25l-\b \b\\\b \b|\b \b/\b \b-\b \b\\\b \bdone\r\n",
      "\u001b[?25h  Getting requirements to build wheel ... \u001b[?25l-\b \bdone\r\n",
      "\u001b[?25h  Preparing metadata (pyproject.toml) ... \u001b[?25l-\b \bdone\r\n",
      "\u001b[?25hRequirement already satisfied: beautifulsoup4>=4.11.1 in /opt/conda/lib/python3.10/site-packages (from yfinance) (4.12.2)\r\n",
      "Requirement already satisfied: html5lib>=1.1 in /opt/conda/lib/python3.10/site-packages (from yfinance) (1.1)\r\n",
      "Requirement already satisfied: soupsieve>1.2 in /opt/conda/lib/python3.10/site-packages (from beautifulsoup4>=4.11.1->yfinance) (2.5)\r\n",
      "Requirement already satisfied: six>=1.9 in /opt/conda/lib/python3.10/site-packages (from html5lib>=1.1->yfinance) (1.16.0)\r\n",
      "Requirement already satisfied: webencodings in /opt/conda/lib/python3.10/site-packages (from html5lib>=1.1->yfinance) (0.5.1)\r\n",
      "Requirement already satisfied: python-dateutil>=2.8.2 in /opt/conda/lib/python3.10/site-packages (from pandas>=1.3.0->yfinance) (2.8.2)\r\n",
      "Requirement already satisfied: tzdata>=2022.7 in /opt/conda/lib/python3.10/site-packages (from pandas>=1.3.0->yfinance) (2023.4)\r\n",
      "Requirement already satisfied: charset-normalizer<4,>=2 in /opt/conda/lib/python3.10/site-packages (from requests>=2.31->yfinance) (3.3.2)\r\n",
      "Requirement already satisfied: idna<4,>=2.5 in /opt/conda/lib/python3.10/site-packages (from requests>=2.31->yfinance) (3.6)\r\n",
      "Requirement already satisfied: urllib3<3,>=1.21.1 in /opt/conda/lib/python3.10/site-packages (from requests>=2.31->yfinance) (1.26.18)\r\n",
      "Requirement already satisfied: certifi>=2017.4.17 in /opt/conda/lib/python3.10/site-packages (from requests>=2.31->yfinance) (2023.11.17)\r\n",
      "Downloading yfinance-0.2.36-py2.py3-none-any.whl (72 kB)\r\n",
      "\u001b[2K   \u001b[90m━━━━━━━━━━━━━━━━━━━━━━━━━━━━━━━━━━━━━━━━\u001b[0m \u001b[32m72.4/72.4 kB\u001b[0m \u001b[31m3.4 MB/s\u001b[0m eta \u001b[36m0:00:00\u001b[0m\r\n",
      "\u001b[?25hBuilding wheels for collected packages: peewee\r\n",
      "  Building wheel for peewee (pyproject.toml) ... \u001b[?25l-\b \b\\\b \b|\b \b/\b \bdone\r\n",
      "\u001b[?25h  Created wheel for peewee: filename=peewee-3.17.1-cp310-cp310-linux_x86_64.whl size=291653 sha256=baf06d3f81efc81d7a53d4bdccce68f78562bdad150aec3a224809a13265c11b\r\n",
      "  Stored in directory: /root/.cache/pip/wheels/d7/35/5c/1374782be033462df5f40174d8d879519d64ed8c25a1977554\r\n",
      "Successfully built peewee\r\n",
      "Installing collected packages: peewee, multitasking, yfinance\r\n",
      "Successfully installed multitasking-0.0.11 peewee-3.17.1 yfinance-0.2.36\r\n"
     ]
    }
   ],
   "source": [
    "!pip install yfinance\n",
    "import warnings\n",
    "warnings.filterwarnings(\"ignore\")\n",
    "import pandas as pd \n",
    "import numpy as np\n",
    "import matplotlib.pyplot as plt\n",
    "import seaborn as sns\n",
    "import yfinance as yf\n",
    "from scipy import stats"
   ]
  },
  {
   "cell_type": "markdown",
   "id": "25f76fec",
   "metadata": {
    "papermill": {
     "duration": 0.009739,
     "end_time": "2024-02-12T10:04:39.221300",
     "exception": false,
     "start_time": "2024-02-12T10:04:39.211561",
     "status": "completed"
    },
    "tags": []
   },
   "source": [
    "# One-asset Value at Risk"
   ]
  },
  {
   "cell_type": "code",
   "execution_count": 2,
   "id": "833769ad",
   "metadata": {
    "_kg_hide-output": true,
    "execution": {
     "iopub.execute_input": "2024-02-12T10:04:39.243164Z",
     "iopub.status.busy": "2024-02-12T10:04:39.242440Z",
     "iopub.status.idle": "2024-02-12T10:04:58.147558Z",
     "shell.execute_reply": "2024-02-12T10:04:58.146033Z"
    },
    "papermill": {
     "duration": 18.919494,
     "end_time": "2024-02-12T10:04:58.150331",
     "exception": false,
     "start_time": "2024-02-12T10:04:39.230837",
     "status": "completed"
    },
    "tags": []
   },
   "outputs": [
    {
     "name": "stderr",
     "output_type": "stream",
     "text": [
      "[*********************100%%**********************]  1 of 1 completed\n"
     ]
    }
   ],
   "source": [
    "hist = yf.download('AAPL', start='2023-01-01', end='2024-01-01')\n",
    "hist.drop(columns=['Open', 'Close', 'High', 'Low', 'Volume'], inplace=True)"
   ]
  },
  {
   "cell_type": "code",
   "execution_count": 3,
   "id": "becd6f47",
   "metadata": {
    "execution": {
     "iopub.execute_input": "2024-02-12T10:04:58.172526Z",
     "iopub.status.busy": "2024-02-12T10:04:58.172018Z",
     "iopub.status.idle": "2024-02-12T10:04:58.184883Z",
     "shell.execute_reply": "2024-02-12T10:04:58.183390Z"
    },
    "papermill": {
     "duration": 0.027425,
     "end_time": "2024-02-12T10:04:58.187790",
     "exception": false,
     "start_time": "2024-02-12T10:04:58.160365",
     "status": "completed"
    },
    "tags": []
   },
   "outputs": [],
   "source": [
    "hist['Returns'] = hist['Adj Close'].pct_change()\n",
    "hist = hist.dropna(subset='Returns')"
   ]
  },
  {
   "cell_type": "code",
   "execution_count": 4,
   "id": "7ba76d25",
   "metadata": {
    "execution": {
     "iopub.execute_input": "2024-02-12T10:04:58.212109Z",
     "iopub.status.busy": "2024-02-12T10:04:58.211601Z",
     "iopub.status.idle": "2024-02-12T10:04:58.231463Z",
     "shell.execute_reply": "2024-02-12T10:04:58.230006Z"
    },
    "papermill": {
     "duration": 0.035005,
     "end_time": "2024-02-12T10:04:58.234181",
     "exception": false,
     "start_time": "2024-02-12T10:04:58.199176",
     "status": "completed"
    },
    "tags": []
   },
   "outputs": [
    {
     "data": {
      "text/html": [
       "<div>\n",
       "<style scoped>\n",
       "    .dataframe tbody tr th:only-of-type {\n",
       "        vertical-align: middle;\n",
       "    }\n",
       "\n",
       "    .dataframe tbody tr th {\n",
       "        vertical-align: top;\n",
       "    }\n",
       "\n",
       "    .dataframe thead th {\n",
       "        text-align: right;\n",
       "    }\n",
       "</style>\n",
       "<table border=\"1\" class=\"dataframe\">\n",
       "  <thead>\n",
       "    <tr style=\"text-align: right;\">\n",
       "      <th></th>\n",
       "      <th>Adj Close</th>\n",
       "      <th>Returns</th>\n",
       "    </tr>\n",
       "    <tr>\n",
       "      <th>Date</th>\n",
       "      <th></th>\n",
       "      <th></th>\n",
       "    </tr>\n",
       "  </thead>\n",
       "  <tbody>\n",
       "    <tr>\n",
       "      <th>2023-01-04</th>\n",
       "      <td>125.497498</td>\n",
       "      <td>0.010314</td>\n",
       "    </tr>\n",
       "    <tr>\n",
       "      <th>2023-01-05</th>\n",
       "      <td>124.166649</td>\n",
       "      <td>-0.010605</td>\n",
       "    </tr>\n",
       "    <tr>\n",
       "      <th>2023-01-06</th>\n",
       "      <td>128.735245</td>\n",
       "      <td>0.036794</td>\n",
       "    </tr>\n",
       "    <tr>\n",
       "      <th>2023-01-09</th>\n",
       "      <td>129.261612</td>\n",
       "      <td>0.004089</td>\n",
       "    </tr>\n",
       "    <tr>\n",
       "      <th>2023-01-10</th>\n",
       "      <td>129.837662</td>\n",
       "      <td>0.004456</td>\n",
       "    </tr>\n",
       "    <tr>\n",
       "      <th>...</th>\n",
       "      <td>...</td>\n",
       "      <td>...</td>\n",
       "    </tr>\n",
       "    <tr>\n",
       "      <th>2023-12-22</th>\n",
       "      <td>193.353287</td>\n",
       "      <td>-0.005547</td>\n",
       "    </tr>\n",
       "    <tr>\n",
       "      <th>2023-12-26</th>\n",
       "      <td>192.803986</td>\n",
       "      <td>-0.002841</td>\n",
       "    </tr>\n",
       "    <tr>\n",
       "      <th>2023-12-27</th>\n",
       "      <td>192.903839</td>\n",
       "      <td>0.000518</td>\n",
       "    </tr>\n",
       "    <tr>\n",
       "      <th>2023-12-28</th>\n",
       "      <td>193.333298</td>\n",
       "      <td>0.002226</td>\n",
       "    </tr>\n",
       "    <tr>\n",
       "      <th>2023-12-29</th>\n",
       "      <td>192.284637</td>\n",
       "      <td>-0.005424</td>\n",
       "    </tr>\n",
       "  </tbody>\n",
       "</table>\n",
       "<p>249 rows × 2 columns</p>\n",
       "</div>"
      ],
      "text/plain": [
       "             Adj Close   Returns\n",
       "Date                            \n",
       "2023-01-04  125.497498  0.010314\n",
       "2023-01-05  124.166649 -0.010605\n",
       "2023-01-06  128.735245  0.036794\n",
       "2023-01-09  129.261612  0.004089\n",
       "2023-01-10  129.837662  0.004456\n",
       "...                ...       ...\n",
       "2023-12-22  193.353287 -0.005547\n",
       "2023-12-26  192.803986 -0.002841\n",
       "2023-12-27  192.903839  0.000518\n",
       "2023-12-28  193.333298  0.002226\n",
       "2023-12-29  192.284637 -0.005424\n",
       "\n",
       "[249 rows x 2 columns]"
      ]
     },
     "execution_count": 4,
     "metadata": {},
     "output_type": "execute_result"
    }
   ],
   "source": [
    "hist"
   ]
  },
  {
   "cell_type": "markdown",
   "id": "a630ac38",
   "metadata": {
    "papermill": {
     "duration": 0.009753,
     "end_time": "2024-02-12T10:04:58.254190",
     "exception": false,
     "start_time": "2024-02-12T10:04:58.244437",
     "status": "completed"
    },
    "tags": []
   },
   "source": [
    "## 0.95 confidence interval\n",
    "\n",
    "We expect to lose no more than 1.718% of the value of our position, 95% of the time"
   ]
  },
  {
   "cell_type": "code",
   "execution_count": 5,
   "id": "565a1d08",
   "metadata": {
    "execution": {
     "iopub.execute_input": "2024-02-12T10:04:58.276968Z",
     "iopub.status.busy": "2024-02-12T10:04:58.276503Z",
     "iopub.status.idle": "2024-02-12T10:04:58.284378Z",
     "shell.execute_reply": "2024-02-12T10:04:58.283078Z"
    },
    "papermill": {
     "duration": 0.022815,
     "end_time": "2024-02-12T10:04:58.287362",
     "exception": false,
     "start_time": "2024-02-12T10:04:58.264547",
     "status": "completed"
    },
    "tags": []
   },
   "outputs": [
    {
     "name": "stdout",
     "output_type": "stream",
     "text": [
      "0.017176549099235404\n"
     ]
    }
   ],
   "source": [
    "confidence_interval = 0.95\n",
    "VaR = -np.percentile(hist['Returns'], 100 - (confidence_interval * 100))\n",
    "print(VaR)"
   ]
  },
  {
   "cell_type": "markdown",
   "id": "b72e6b00",
   "metadata": {
    "papermill": {
     "duration": 0.009939,
     "end_time": "2024-02-12T10:04:58.307584",
     "exception": false,
     "start_time": "2024-02-12T10:04:58.297645",
     "status": "completed"
    },
    "tags": []
   },
   "source": [
    "## 0.99 confidence interval\n",
    "\n",
    "We expect to lose no more than 2.802% of the value of our position, 99% of the time"
   ]
  },
  {
   "cell_type": "code",
   "execution_count": 6,
   "id": "8b73e493",
   "metadata": {
    "execution": {
     "iopub.execute_input": "2024-02-12T10:04:58.330347Z",
     "iopub.status.busy": "2024-02-12T10:04:58.329851Z",
     "iopub.status.idle": "2024-02-12T10:04:58.336876Z",
     "shell.execute_reply": "2024-02-12T10:04:58.336025Z"
    },
    "papermill": {
     "duration": 0.021911,
     "end_time": "2024-02-12T10:04:58.339809",
     "exception": false,
     "start_time": "2024-02-12T10:04:58.317898",
     "status": "completed"
    },
    "tags": []
   },
   "outputs": [
    {
     "name": "stdout",
     "output_type": "stream",
     "text": [
      "0.02801598721227475\n"
     ]
    }
   ],
   "source": [
    "confidence_interval = 0.99\n",
    "VaR = -np.percentile(hist['Returns'], 100 - (confidence_interval * 100))\n",
    "print(VaR)"
   ]
  },
  {
   "cell_type": "markdown",
   "id": "e1908a99",
   "metadata": {
    "papermill": {
     "duration": 0.00997,
     "end_time": "2024-02-12T10:04:58.360243",
     "exception": false,
     "start_time": "2024-02-12T10:04:58.350273",
     "status": "completed"
    },
    "tags": []
   },
   "source": [
    "## Distribution"
   ]
  },
  {
   "cell_type": "code",
   "execution_count": 7,
   "id": "6b8cec4f",
   "metadata": {
    "execution": {
     "iopub.execute_input": "2024-02-12T10:04:58.382691Z",
     "iopub.status.busy": "2024-02-12T10:04:58.382217Z",
     "iopub.status.idle": "2024-02-12T10:04:59.015351Z",
     "shell.execute_reply": "2024-02-12T10:04:59.014169Z"
    },
    "papermill": {
     "duration": 0.648043,
     "end_time": "2024-02-12T10:04:59.018651",
     "exception": false,
     "start_time": "2024-02-12T10:04:58.370608",
     "status": "completed"
    },
    "tags": []
   },
   "outputs": [
    {
     "data": {
      "text/plain": [
       "Text(0.5, 0, 'Returns (%)')"
      ]
     },
     "execution_count": 7,
     "metadata": {},
     "output_type": "execute_result"
    },
    {
     "data": {
      "image/png": "[encoded data removed]",
      "text/plain": [
       "<Figure size 1000x600 with 2 Axes>"
      ]
     },
     "metadata": {},
     "output_type": "display_data"
    }
   ],
   "source": [
    "fig, ax1 = plt.subplots(figsize=(10, 6))\n",
    "sns.kdeplot(data=hist, x=\"Returns\", ax=ax1)\n",
    "ax1.set_xlim((hist[\"Returns\"].min(), hist[\"Returns\"].max()))\n",
    "ax2 = ax1.twinx()\n",
    "ax1.axvline(np.percentile(hist['Returns'], 1), 0, 1, color='orange', ls='--', label=\"VaR at 99% confidence level\")\n",
    "ax1.axvline(np.percentile(hist['Returns'], 5), 0, 1, color='red', ls='--', label=\"VaR at 95% confidence level\")\n",
    "sns.histplot(data=hist, x=\"Returns\", bins=18, ax=ax2)\n",
    "ax1.legend()\n",
    "ax1.set_title('AAPL Returns Distribution')\n",
    "ax1.set_xlabel('Returns (%)')"
   ]
  },
  {
   "cell_type": "markdown",
   "id": "b71eb98b",
   "metadata": {
    "papermill": {
     "duration": 0.011071,
     "end_time": "2024-02-12T10:04:59.041442",
     "exception": false,
     "start_time": "2024-02-12T10:04:59.030371",
     "status": "completed"
    },
    "tags": []
   },
   "source": [
    "# Multi-asset Value at Risk for an equally weighted portfolio"
   ]
  },
  {
   "cell_type": "code",
   "execution_count": 8,
   "id": "36573dcd",
   "metadata": {
    "_kg_hide-output": true,
    "execution": {
     "iopub.execute_input": "2024-02-12T10:04:59.068281Z",
     "iopub.status.busy": "2024-02-12T10:04:59.067358Z",
     "iopub.status.idle": "2024-02-12T10:05:00.404291Z",
     "shell.execute_reply": "2024-02-12T10:05:00.402929Z"
    },
    "papermill": {
     "duration": 1.354061,
     "end_time": "2024-02-12T10:05:00.407029",
     "exception": false,
     "start_time": "2024-02-12T10:04:59.052968",
     "status": "completed"
    },
    "tags": []
   },
   "outputs": [
    {
     "name": "stderr",
     "output_type": "stream",
     "text": [
      "[*********************100%%**********************]  1 of 1 completed\n",
      "[*********************100%%**********************]  1 of 1 completed\n",
      "[*********************100%%**********************]  1 of 1 completed\n",
      "[*********************100%%**********************]  1 of 1 completed\n",
      "[*********************100%%**********************]  1 of 1 completed\n"
     ]
    }
   ],
   "source": [
    "tickers = ['AAPL', 'MSFT', 'GOOG', 'META', 'TSLA']\n",
    "\n",
    "df = pd.DataFrame()\n",
    "for ticker in tickers:\n",
    "    data = yf.download(ticker, start='2023-01-01', end='2024-01-01')\n",
    "    df[ticker] = data['Adj Close']"
   ]
  },
  {
   "cell_type": "code",
   "execution_count": 9,
   "id": "45cf7b7c",
   "metadata": {
    "execution": {
     "iopub.execute_input": "2024-02-12T10:05:00.435109Z",
     "iopub.status.busy": "2024-02-12T10:05:00.433590Z",
     "iopub.status.idle": "2024-02-12T10:05:00.451537Z",
     "shell.execute_reply": "2024-02-12T10:05:00.450069Z"
    },
    "papermill": {
     "duration": 0.034635,
     "end_time": "2024-02-12T10:05:00.454195",
     "exception": false,
     "start_time": "2024-02-12T10:05:00.419560",
     "status": "completed"
    },
    "tags": []
   },
   "outputs": [
    {
     "data": {
      "text/html": [
       "<div>\n",
       "<style scoped>\n",
       "    .dataframe tbody tr th:only-of-type {\n",
       "        vertical-align: middle;\n",
       "    }\n",
       "\n",
       "    .dataframe tbody tr th {\n",
       "        vertical-align: top;\n",
       "    }\n",
       "\n",
       "    .dataframe thead th {\n",
       "        text-align: right;\n",
       "    }\n",
       "</style>\n",
       "<table border=\"1\" class=\"dataframe\">\n",
       "  <thead>\n",
       "    <tr style=\"text-align: right;\">\n",
       "      <th></th>\n",
       "      <th>AAPL</th>\n",
       "      <th>MSFT</th>\n",
       "      <th>GOOG</th>\n",
       "      <th>META</th>\n",
       "      <th>TSLA</th>\n",
       "    </tr>\n",
       "    <tr>\n",
       "      <th>Date</th>\n",
       "      <th></th>\n",
       "      <th></th>\n",
       "      <th></th>\n",
       "      <th></th>\n",
       "      <th></th>\n",
       "    </tr>\n",
       "  </thead>\n",
       "  <tbody>\n",
       "    <tr>\n",
       "      <th>2023-01-03</th>\n",
       "      <td>124.216301</td>\n",
       "      <td>237.474350</td>\n",
       "      <td>89.699997</td>\n",
       "      <td>124.739998</td>\n",
       "      <td>108.099998</td>\n",
       "    </tr>\n",
       "    <tr>\n",
       "      <th>2023-01-04</th>\n",
       "      <td>125.497498</td>\n",
       "      <td>227.086456</td>\n",
       "      <td>88.709999</td>\n",
       "      <td>127.370003</td>\n",
       "      <td>113.639999</td>\n",
       "    </tr>\n",
       "    <tr>\n",
       "      <th>2023-01-05</th>\n",
       "      <td>124.166649</td>\n",
       "      <td>220.356125</td>\n",
       "      <td>86.769997</td>\n",
       "      <td>126.940002</td>\n",
       "      <td>110.339996</td>\n",
       "    </tr>\n",
       "    <tr>\n",
       "      <th>2023-01-06</th>\n",
       "      <td>128.735245</td>\n",
       "      <td>222.953079</td>\n",
       "      <td>88.160004</td>\n",
       "      <td>130.020004</td>\n",
       "      <td>113.059998</td>\n",
       "    </tr>\n",
       "    <tr>\n",
       "      <th>2023-01-09</th>\n",
       "      <td>129.261612</td>\n",
       "      <td>225.123825</td>\n",
       "      <td>88.800003</td>\n",
       "      <td>129.470001</td>\n",
       "      <td>119.769997</td>\n",
       "    </tr>\n",
       "    <tr>\n",
       "      <th>...</th>\n",
       "      <td>...</td>\n",
       "      <td>...</td>\n",
       "      <td>...</td>\n",
       "      <td>...</td>\n",
       "      <td>...</td>\n",
       "    </tr>\n",
       "    <tr>\n",
       "      <th>2023-12-22</th>\n",
       "      <td>193.353287</td>\n",
       "      <td>374.579987</td>\n",
       "      <td>142.720001</td>\n",
       "      <td>353.390015</td>\n",
       "      <td>252.539993</td>\n",
       "    </tr>\n",
       "    <tr>\n",
       "      <th>2023-12-26</th>\n",
       "      <td>192.803986</td>\n",
       "      <td>374.660004</td>\n",
       "      <td>142.820007</td>\n",
       "      <td>354.829987</td>\n",
       "      <td>256.609985</td>\n",
       "    </tr>\n",
       "    <tr>\n",
       "      <th>2023-12-27</th>\n",
       "      <td>192.903839</td>\n",
       "      <td>374.070007</td>\n",
       "      <td>141.440002</td>\n",
       "      <td>357.829987</td>\n",
       "      <td>261.440002</td>\n",
       "    </tr>\n",
       "    <tr>\n",
       "      <th>2023-12-28</th>\n",
       "      <td>193.333298</td>\n",
       "      <td>375.279999</td>\n",
       "      <td>141.279999</td>\n",
       "      <td>358.320007</td>\n",
       "      <td>253.179993</td>\n",
       "    </tr>\n",
       "    <tr>\n",
       "      <th>2023-12-29</th>\n",
       "      <td>192.284637</td>\n",
       "      <td>376.040009</td>\n",
       "      <td>140.929993</td>\n",
       "      <td>353.959991</td>\n",
       "      <td>248.479996</td>\n",
       "    </tr>\n",
       "  </tbody>\n",
       "</table>\n",
       "<p>250 rows × 5 columns</p>\n",
       "</div>"
      ],
      "text/plain": [
       "                  AAPL        MSFT        GOOG        META        TSLA\n",
       "Date                                                                  \n",
       "2023-01-03  124.216301  237.474350   89.699997  124.739998  108.099998\n",
       "2023-01-04  125.497498  227.086456   88.709999  127.370003  113.639999\n",
       "2023-01-05  124.166649  220.356125   86.769997  126.940002  110.339996\n",
       "2023-01-06  128.735245  222.953079   88.160004  130.020004  113.059998\n",
       "2023-01-09  129.261612  225.123825   88.800003  129.470001  119.769997\n",
       "...                ...         ...         ...         ...         ...\n",
       "2023-12-22  193.353287  374.579987  142.720001  353.390015  252.539993\n",
       "2023-12-26  192.803986  374.660004  142.820007  354.829987  256.609985\n",
       "2023-12-27  192.903839  374.070007  141.440002  357.829987  261.440002\n",
       "2023-12-28  193.333298  375.279999  141.279999  358.320007  253.179993\n",
       "2023-12-29  192.284637  376.040009  140.929993  353.959991  248.479996\n",
       "\n",
       "[250 rows x 5 columns]"
      ]
     },
     "execution_count": 9,
     "metadata": {},
     "output_type": "execute_result"
    }
   ],
   "source": [
    "df"
   ]
  },
  {
   "cell_type": "code",
   "execution_count": 10,
   "id": "4c169c6e",
   "metadata": {
    "execution": {
     "iopub.execute_input": "2024-02-12T10:05:00.481925Z",
     "iopub.status.busy": "2024-02-12T10:05:00.480906Z",
     "iopub.status.idle": "2024-02-12T10:05:00.501053Z",
     "shell.execute_reply": "2024-02-12T10:05:00.500043Z"
    },
    "papermill": {
     "duration": 0.036234,
     "end_time": "2024-02-12T10:05:00.503067",
     "exception": false,
     "start_time": "2024-02-12T10:05:00.466833",
     "status": "completed"
    },
    "tags": []
   },
   "outputs": [
    {
     "data": {
      "text/html": [
       "<div>\n",
       "<style scoped>\n",
       "    .dataframe tbody tr th:only-of-type {\n",
       "        vertical-align: middle;\n",
       "    }\n",
       "\n",
       "    .dataframe tbody tr th {\n",
       "        vertical-align: top;\n",
       "    }\n",
       "\n",
       "    .dataframe thead th {\n",
       "        text-align: right;\n",
       "    }\n",
       "</style>\n",
       "<table border=\"1\" class=\"dataframe\">\n",
       "  <thead>\n",
       "    <tr style=\"text-align: right;\">\n",
       "      <th></th>\n",
       "      <th>AAPL</th>\n",
       "      <th>MSFT</th>\n",
       "      <th>GOOG</th>\n",
       "      <th>META</th>\n",
       "      <th>TSLA</th>\n",
       "    </tr>\n",
       "    <tr>\n",
       "      <th>Date</th>\n",
       "      <th></th>\n",
       "      <th></th>\n",
       "      <th></th>\n",
       "      <th></th>\n",
       "      <th></th>\n",
       "    </tr>\n",
       "  </thead>\n",
       "  <tbody>\n",
       "    <tr>\n",
       "      <th>2023-01-04</th>\n",
       "      <td>0.010314</td>\n",
       "      <td>-0.043743</td>\n",
       "      <td>-0.011037</td>\n",
       "      <td>0.021084</td>\n",
       "      <td>0.051249</td>\n",
       "    </tr>\n",
       "    <tr>\n",
       "      <th>2023-01-05</th>\n",
       "      <td>-0.010605</td>\n",
       "      <td>-0.029638</td>\n",
       "      <td>-0.021869</td>\n",
       "      <td>-0.003376</td>\n",
       "      <td>-0.029039</td>\n",
       "    </tr>\n",
       "    <tr>\n",
       "      <th>2023-01-06</th>\n",
       "      <td>0.036794</td>\n",
       "      <td>0.011785</td>\n",
       "      <td>0.016019</td>\n",
       "      <td>0.024263</td>\n",
       "      <td>0.024651</td>\n",
       "    </tr>\n",
       "    <tr>\n",
       "      <th>2023-01-09</th>\n",
       "      <td>0.004089</td>\n",
       "      <td>0.009736</td>\n",
       "      <td>0.007260</td>\n",
       "      <td>-0.004230</td>\n",
       "      <td>0.059349</td>\n",
       "    </tr>\n",
       "    <tr>\n",
       "      <th>2023-01-10</th>\n",
       "      <td>0.004456</td>\n",
       "      <td>0.007617</td>\n",
       "      <td>0.004955</td>\n",
       "      <td>0.027188</td>\n",
       "      <td>-0.007681</td>\n",
       "    </tr>\n",
       "    <tr>\n",
       "      <th>...</th>\n",
       "      <td>...</td>\n",
       "      <td>...</td>\n",
       "      <td>...</td>\n",
       "      <td>...</td>\n",
       "      <td>...</td>\n",
       "    </tr>\n",
       "    <tr>\n",
       "      <th>2023-12-22</th>\n",
       "      <td>-0.005547</td>\n",
       "      <td>0.002784</td>\n",
       "      <td>0.006488</td>\n",
       "      <td>-0.001977</td>\n",
       "      <td>-0.007701</td>\n",
       "    </tr>\n",
       "    <tr>\n",
       "      <th>2023-12-26</th>\n",
       "      <td>-0.002841</td>\n",
       "      <td>0.000214</td>\n",
       "      <td>0.000701</td>\n",
       "      <td>0.004075</td>\n",
       "      <td>0.016116</td>\n",
       "    </tr>\n",
       "    <tr>\n",
       "      <th>2023-12-27</th>\n",
       "      <td>0.000518</td>\n",
       "      <td>-0.001575</td>\n",
       "      <td>-0.009663</td>\n",
       "      <td>0.008455</td>\n",
       "      <td>0.018822</td>\n",
       "    </tr>\n",
       "    <tr>\n",
       "      <th>2023-12-28</th>\n",
       "      <td>0.002226</td>\n",
       "      <td>0.003235</td>\n",
       "      <td>-0.001131</td>\n",
       "      <td>0.001369</td>\n",
       "      <td>-0.031594</td>\n",
       "    </tr>\n",
       "    <tr>\n",
       "      <th>2023-12-29</th>\n",
       "      <td>-0.005424</td>\n",
       "      <td>0.002025</td>\n",
       "      <td>-0.002477</td>\n",
       "      <td>-0.012168</td>\n",
       "      <td>-0.018564</td>\n",
       "    </tr>\n",
       "  </tbody>\n",
       "</table>\n",
       "<p>249 rows × 5 columns</p>\n",
       "</div>"
      ],
      "text/plain": [
       "                AAPL      MSFT      GOOG      META      TSLA\n",
       "Date                                                        \n",
       "2023-01-04  0.010314 -0.043743 -0.011037  0.021084  0.051249\n",
       "2023-01-05 -0.010605 -0.029638 -0.021869 -0.003376 -0.029039\n",
       "2023-01-06  0.036794  0.011785  0.016019  0.024263  0.024651\n",
       "2023-01-09  0.004089  0.009736  0.007260 -0.004230  0.059349\n",
       "2023-01-10  0.004456  0.007617  0.004955  0.027188 -0.007681\n",
       "...              ...       ...       ...       ...       ...\n",
       "2023-12-22 -0.005547  0.002784  0.006488 -0.001977 -0.007701\n",
       "2023-12-26 -0.002841  0.000214  0.000701  0.004075  0.016116\n",
       "2023-12-27  0.000518 -0.001575 -0.009663  0.008455  0.018822\n",
       "2023-12-28  0.002226  0.003235 -0.001131  0.001369 -0.031594\n",
       "2023-12-29 -0.005424  0.002025 -0.002477 -0.012168 -0.018564\n",
       "\n",
       "[249 rows x 5 columns]"
      ]
     },
     "execution_count": 10,
     "metadata": {},
     "output_type": "execute_result"
    }
   ],
   "source": [
    "returns = df.pct_change()\n",
    "returns = returns.dropna()\n",
    "returns"
   ]
  },
  {
   "cell_type": "code",
   "execution_count": 11,
   "id": "5f268c9e",
   "metadata": {
    "_kg_hide-output": false,
    "execution": {
     "iopub.execute_input": "2024-02-12T10:05:00.530980Z",
     "iopub.status.busy": "2024-02-12T10:05:00.530202Z",
     "iopub.status.idle": "2024-02-12T10:05:00.536808Z",
     "shell.execute_reply": "2024-02-12T10:05:00.535648Z"
    },
    "papermill": {
     "duration": 0.02336,
     "end_time": "2024-02-12T10:05:00.539271",
     "exception": false,
     "start_time": "2024-02-12T10:05:00.515911",
     "status": "completed"
    },
    "tags": []
   },
   "outputs": [
    {
     "name": "stdout",
     "output_type": "stream",
     "text": [
      "[0.2 0.2 0.2 0.2 0.2]\n"
     ]
    }
   ],
   "source": [
    "portfolio_value = 1000000\n",
    "weights = np.array([1/len(tickers)]*len(tickers))\n",
    "print(weights)"
   ]
  },
  {
   "cell_type": "code",
   "execution_count": 12,
   "id": "c111e009",
   "metadata": {
    "execution": {
     "iopub.execute_input": "2024-02-12T10:05:00.567606Z",
     "iopub.status.busy": "2024-02-12T10:05:00.566677Z",
     "iopub.status.idle": "2024-02-12T10:05:00.577839Z",
     "shell.execute_reply": "2024-02-12T10:05:00.576589Z"
    },
    "papermill": {
     "duration": 0.027821,
     "end_time": "2024-02-12T10:05:00.580400",
     "exception": false,
     "start_time": "2024-02-12T10:05:00.552579",
     "status": "completed"
    },
    "tags": []
   },
   "outputs": [
    {
     "name": "stdout",
     "output_type": "stream",
     "text": [
      "Date\n",
      "2023-01-04    0.005573\n",
      "2023-01-05   -0.018905\n",
      "2023-01-06    0.022703\n",
      "2023-01-09    0.015241\n",
      "2023-01-10    0.007307\n",
      "                ...   \n",
      "2023-12-22   -0.001191\n",
      "2023-12-26    0.003653\n",
      "2023-12-27    0.003312\n",
      "2023-12-28   -0.005179\n",
      "2023-12-29   -0.007322\n",
      "Length: 249, dtype: float64\n"
     ]
    }
   ],
   "source": [
    "historical_returns = (returns * weights).sum(axis =1)\n",
    "print(historical_returns)"
   ]
  },
  {
   "cell_type": "code",
   "execution_count": 13,
   "id": "b15ef55c",
   "metadata": {
    "execution": {
     "iopub.execute_input": "2024-02-12T10:05:00.609984Z",
     "iopub.status.busy": "2024-02-12T10:05:00.608843Z",
     "iopub.status.idle": "2024-02-12T10:05:00.620104Z",
     "shell.execute_reply": "2024-02-12T10:05:00.618738Z"
    },
    "papermill": {
     "duration": 0.028281,
     "end_time": "2024-02-12T10:05:00.622561",
     "exception": false,
     "start_time": "2024-02-12T10:05:00.594280",
     "status": "completed"
    },
    "tags": []
   },
   "outputs": [
    {
     "name": "stdout",
     "output_type": "stream",
     "text": [
      "Date\n",
      "2023-03-16    0.326000\n",
      "2023-03-17    0.310985\n",
      "2023-03-20    0.332512\n",
      "2023-03-21    0.341047\n",
      "2023-03-22    0.311003\n",
      "                ...   \n",
      "2023-12-22    0.064179\n",
      "2023-12-26    0.086230\n",
      "2023-12-27    0.077599\n",
      "2023-12-28    0.071306\n",
      "2023-12-29    0.082954\n",
      "Length: 200, dtype: float64\n"
     ]
    }
   ],
   "source": [
    "days = 50\n",
    "\n",
    "range_returns = historical_returns.rolling(window = days).sum()\n",
    "range_returns = range_returns.dropna()\n",
    "print(range_returns)"
   ]
  },
  {
   "cell_type": "markdown",
   "id": "2e048f41",
   "metadata": {
    "papermill": {
     "duration": 0.013057,
     "end_time": "2024-02-12T10:05:00.648689",
     "exception": false,
     "start_time": "2024-02-12T10:05:00.635632",
     "status": "completed"
    },
    "tags": []
   },
   "source": [
    "## 0.99 confidence interval\n",
    "\n",
    "We expect to lose no more than $65334.43 of the value of our position, 99% of the time"
   ]
  },
  {
   "cell_type": "code",
   "execution_count": 14,
   "id": "fd821989",
   "metadata": {
    "execution": {
     "iopub.execute_input": "2024-02-12T10:05:00.676162Z",
     "iopub.status.busy": "2024-02-12T10:05:00.675675Z",
     "iopub.status.idle": "2024-02-12T10:05:00.682866Z",
     "shell.execute_reply": "2024-02-12T10:05:00.682032Z"
    },
    "papermill": {
     "duration": 0.023738,
     "end_time": "2024-02-12T10:05:00.685177",
     "exception": false,
     "start_time": "2024-02-12T10:05:00.661439",
     "status": "completed"
    },
    "tags": []
   },
   "outputs": [
    {
     "name": "stdout",
     "output_type": "stream",
     "text": [
      "65334.40892280889\n"
     ]
    }
   ],
   "source": [
    "confidence_interval = 0.99\n",
    "\n",
    "VaR = -np.percentile(range_returns, 100 - (confidence_interval * 100))*portfolio_value\n",
    "print(VaR)"
   ]
  },
  {
   "cell_type": "markdown",
   "id": "4b01a927",
   "metadata": {
    "papermill": {
     "duration": 0.013183,
     "end_time": "2024-02-12T10:05:00.711931",
     "exception": false,
     "start_time": "2024-02-12T10:05:00.698748",
     "status": "completed"
    },
    "tags": []
   },
   "source": [
    "## Distribution"
   ]
  },
  {
   "cell_type": "code",
   "execution_count": 15,
   "id": "99a660ec",
   "metadata": {
    "execution": {
     "iopub.execute_input": "2024-02-12T10:05:00.740703Z",
     "iopub.status.busy": "2024-02-12T10:05:00.739857Z",
     "iopub.status.idle": "2024-02-12T10:05:01.110907Z",
     "shell.execute_reply": "2024-02-12T10:05:01.109657Z"
    },
    "papermill": {
     "duration": 0.388257,
     "end_time": "2024-02-12T10:05:01.113491",
     "exception": false,
     "start_time": "2024-02-12T10:05:00.725234",
     "status": "completed"
    },
    "tags": []
   },
   "outputs": [
    {
     "data": {
      "image/png": "[encoded data removed]",
      "text/plain": [
       "<Figure size 640x480 with 1 Axes>"
      ]
     },
     "metadata": {},
     "output_type": "display_data"
    }
   ],
   "source": [
    "return_window = days\n",
    "range_returns = historical_returns.rolling(window=return_window).sum()\n",
    "range_returns = range_returns.dropna()\n",
    "\n",
    "range_returns_dollar = range_returns * portfolio_value\n",
    "\n",
    "sns.histplot(range_returns_dollar, bins=25, kde=True)\n",
    "plt.xlabel(f'{return_window}-Day Portfolio Return (Dollar Value)')\n",
    "plt.ylabel('Frequency')\n",
    "plt.title(f'Distribution of Portfolio {return_window}-Day Returns (Dollar Value)')\n",
    "plt.axvline(-VaR, color='r', linestyle='dashed', linewidth=2, label=f'VaR at {confidence_interval:.0%} confidence level')\n",
    "plt.legend()\n",
    "plt.show()"
   ]
  },
  {
   "cell_type": "markdown",
   "id": "d9924699",
   "metadata": {
    "papermill": {
     "duration": 0.013558,
     "end_time": "2024-02-12T10:05:01.140985",
     "exception": false,
     "start_time": "2024-02-12T10:05:01.127427",
     "status": "completed"
    },
    "tags": []
   },
   "source": [
    "# Value at Risk using Monte Carlo simulation"
   ]
  },
  {
   "cell_type": "code",
   "execution_count": 16,
   "id": "176be672",
   "metadata": {
    "execution": {
     "iopub.execute_input": "2024-02-12T10:05:01.172628Z",
     "iopub.status.busy": "2024-02-12T10:05:01.172015Z",
     "iopub.status.idle": "2024-02-12T10:05:01.189399Z",
     "shell.execute_reply": "2024-02-12T10:05:01.188117Z"
    },
    "papermill": {
     "duration": 0.036495,
     "end_time": "2024-02-12T10:05:01.192110",
     "exception": false,
     "start_time": "2024-02-12T10:05:01.155615",
     "status": "completed"
    },
    "tags": []
   },
   "outputs": [
    {
     "data": {
      "text/html": [
       "<div>\n",
       "<style scoped>\n",
       "    .dataframe tbody tr th:only-of-type {\n",
       "        vertical-align: middle;\n",
       "    }\n",
       "\n",
       "    .dataframe tbody tr th {\n",
       "        vertical-align: top;\n",
       "    }\n",
       "\n",
       "    .dataframe thead th {\n",
       "        text-align: right;\n",
       "    }\n",
       "</style>\n",
       "<table border=\"1\" class=\"dataframe\">\n",
       "  <thead>\n",
       "    <tr style=\"text-align: right;\">\n",
       "      <th></th>\n",
       "      <th>AAPL</th>\n",
       "      <th>MSFT</th>\n",
       "      <th>GOOG</th>\n",
       "      <th>META</th>\n",
       "      <th>TSLA</th>\n",
       "    </tr>\n",
       "    <tr>\n",
       "      <th>Date</th>\n",
       "      <th></th>\n",
       "      <th></th>\n",
       "      <th></th>\n",
       "      <th></th>\n",
       "      <th></th>\n",
       "    </tr>\n",
       "  </thead>\n",
       "  <tbody>\n",
       "    <tr>\n",
       "      <th>2023-01-04</th>\n",
       "      <td>0.010314</td>\n",
       "      <td>-0.043743</td>\n",
       "      <td>-0.011037</td>\n",
       "      <td>0.021084</td>\n",
       "      <td>0.051249</td>\n",
       "    </tr>\n",
       "    <tr>\n",
       "      <th>2023-01-05</th>\n",
       "      <td>-0.010605</td>\n",
       "      <td>-0.029638</td>\n",
       "      <td>-0.021869</td>\n",
       "      <td>-0.003376</td>\n",
       "      <td>-0.029039</td>\n",
       "    </tr>\n",
       "    <tr>\n",
       "      <th>2023-01-06</th>\n",
       "      <td>0.036794</td>\n",
       "      <td>0.011785</td>\n",
       "      <td>0.016019</td>\n",
       "      <td>0.024263</td>\n",
       "      <td>0.024651</td>\n",
       "    </tr>\n",
       "    <tr>\n",
       "      <th>2023-01-09</th>\n",
       "      <td>0.004089</td>\n",
       "      <td>0.009736</td>\n",
       "      <td>0.007260</td>\n",
       "      <td>-0.004230</td>\n",
       "      <td>0.059349</td>\n",
       "    </tr>\n",
       "    <tr>\n",
       "      <th>2023-01-10</th>\n",
       "      <td>0.004456</td>\n",
       "      <td>0.007617</td>\n",
       "      <td>0.004955</td>\n",
       "      <td>0.027188</td>\n",
       "      <td>-0.007681</td>\n",
       "    </tr>\n",
       "    <tr>\n",
       "      <th>...</th>\n",
       "      <td>...</td>\n",
       "      <td>...</td>\n",
       "      <td>...</td>\n",
       "      <td>...</td>\n",
       "      <td>...</td>\n",
       "    </tr>\n",
       "    <tr>\n",
       "      <th>2023-12-22</th>\n",
       "      <td>-0.005547</td>\n",
       "      <td>0.002784</td>\n",
       "      <td>0.006488</td>\n",
       "      <td>-0.001977</td>\n",
       "      <td>-0.007701</td>\n",
       "    </tr>\n",
       "    <tr>\n",
       "      <th>2023-12-26</th>\n",
       "      <td>-0.002841</td>\n",
       "      <td>0.000214</td>\n",
       "      <td>0.000701</td>\n",
       "      <td>0.004075</td>\n",
       "      <td>0.016116</td>\n",
       "    </tr>\n",
       "    <tr>\n",
       "      <th>2023-12-27</th>\n",
       "      <td>0.000518</td>\n",
       "      <td>-0.001575</td>\n",
       "      <td>-0.009663</td>\n",
       "      <td>0.008455</td>\n",
       "      <td>0.018822</td>\n",
       "    </tr>\n",
       "    <tr>\n",
       "      <th>2023-12-28</th>\n",
       "      <td>0.002226</td>\n",
       "      <td>0.003235</td>\n",
       "      <td>-0.001131</td>\n",
       "      <td>0.001369</td>\n",
       "      <td>-0.031594</td>\n",
       "    </tr>\n",
       "    <tr>\n",
       "      <th>2023-12-29</th>\n",
       "      <td>-0.005424</td>\n",
       "      <td>0.002025</td>\n",
       "      <td>-0.002477</td>\n",
       "      <td>-0.012168</td>\n",
       "      <td>-0.018564</td>\n",
       "    </tr>\n",
       "  </tbody>\n",
       "</table>\n",
       "<p>249 rows × 5 columns</p>\n",
       "</div>"
      ],
      "text/plain": [
       "                AAPL      MSFT      GOOG      META      TSLA\n",
       "Date                                                        \n",
       "2023-01-04  0.010314 -0.043743 -0.011037  0.021084  0.051249\n",
       "2023-01-05 -0.010605 -0.029638 -0.021869 -0.003376 -0.029039\n",
       "2023-01-06  0.036794  0.011785  0.016019  0.024263  0.024651\n",
       "2023-01-09  0.004089  0.009736  0.007260 -0.004230  0.059349\n",
       "2023-01-10  0.004456  0.007617  0.004955  0.027188 -0.007681\n",
       "...              ...       ...       ...       ...       ...\n",
       "2023-12-22 -0.005547  0.002784  0.006488 -0.001977 -0.007701\n",
       "2023-12-26 -0.002841  0.000214  0.000701  0.004075  0.016116\n",
       "2023-12-27  0.000518 -0.001575 -0.009663  0.008455  0.018822\n",
       "2023-12-28  0.002226  0.003235 -0.001131  0.001369 -0.031594\n",
       "2023-12-29 -0.005424  0.002025 -0.002477 -0.012168 -0.018564\n",
       "\n",
       "[249 rows x 5 columns]"
      ]
     },
     "execution_count": 16,
     "metadata": {},
     "output_type": "execute_result"
    }
   ],
   "source": [
    "returns"
   ]
  },
  {
   "cell_type": "code",
   "execution_count": 17,
   "id": "622ab61c",
   "metadata": {
    "execution": {
     "iopub.execute_input": "2024-02-12T10:05:01.224085Z",
     "iopub.status.busy": "2024-02-12T10:05:01.223114Z",
     "iopub.status.idle": "2024-02-12T10:05:01.229706Z",
     "shell.execute_reply": "2024-02-12T10:05:01.228532Z"
    },
    "papermill": {
     "duration": 0.025339,
     "end_time": "2024-02-12T10:05:01.232099",
     "exception": false,
     "start_time": "2024-02-12T10:05:01.206760",
     "status": "completed"
    },
    "tags": []
   },
   "outputs": [],
   "source": [
    "def expected_return(weights, returns):\n",
    "    return np.sum(returns.mean()*weights)\n",
    "\n",
    "def standard_deviation (weights, cov_matrix):\n",
    "    variance = weights.T @ cov_matrix @ weights\n",
    "    return np.sqrt(variance)"
   ]
  },
  {
   "cell_type": "code",
   "execution_count": 18,
   "id": "cfe433f9",
   "metadata": {
    "execution": {
     "iopub.execute_input": "2024-02-12T10:05:01.263062Z",
     "iopub.status.busy": "2024-02-12T10:05:01.261869Z",
     "iopub.status.idle": "2024-02-12T10:05:01.273176Z",
     "shell.execute_reply": "2024-02-12T10:05:01.271846Z"
    },
    "papermill": {
     "duration": 0.029903,
     "end_time": "2024-02-12T10:05:01.276193",
     "exception": false,
     "start_time": "2024-02-12T10:05:01.246290",
     "status": "completed"
    },
    "tags": []
   },
   "outputs": [
    {
     "name": "stdout",
     "output_type": "stream",
     "text": [
      "          AAPL      MSFT      GOOG      META      TSLA\n",
      "AAPL  0.000158  0.000109  0.000130  0.000170  0.000185\n",
      "MSFT  0.000109  0.000250  0.000158  0.000211  0.000167\n",
      "GOOG  0.000130  0.000158  0.000372  0.000295  0.000218\n",
      "META  0.000170  0.000211  0.000295  0.000630  0.000315\n",
      "TSLA  0.000185  0.000167  0.000218  0.000315  0.001100\n"
     ]
    }
   ],
   "source": [
    "cov_matrix = returns.cov()\n",
    "print(cov_matrix)"
   ]
  },
  {
   "cell_type": "markdown",
   "id": "34aae868",
   "metadata": {
    "papermill": {
     "duration": 0.014162,
     "end_time": "2024-02-12T10:05:01.305549",
     "exception": false,
     "start_time": "2024-02-12T10:05:01.291387",
     "status": "completed"
    },
    "tags": []
   },
   "source": [
    "## Simulation"
   ]
  },
  {
   "cell_type": "code",
   "execution_count": 19,
   "id": "f6fe6b77",
   "metadata": {
    "execution": {
     "iopub.execute_input": "2024-02-12T10:05:01.337509Z",
     "iopub.status.busy": "2024-02-12T10:05:01.336053Z",
     "iopub.status.idle": "2024-02-12T10:05:01.346009Z",
     "shell.execute_reply": "2024-02-12T10:05:01.344664Z"
    },
    "papermill": {
     "duration": 0.029148,
     "end_time": "2024-02-12T10:05:01.349090",
     "exception": false,
     "start_time": "2024-02-12T10:05:01.319942",
     "status": "completed"
    },
    "tags": []
   },
   "outputs": [],
   "source": [
    "portfolio_value = 1000000\n",
    "weights = np.array([1/len(tickers)]*len(tickers))\n",
    "portfolio_expected_return = expected_return(weights, returns)\n",
    "portfolio_std_dev = standard_deviation (weights, cov_matrix)"
   ]
  },
  {
   "cell_type": "code",
   "execution_count": 20,
   "id": "233dcf91",
   "metadata": {
    "execution": {
     "iopub.execute_input": "2024-02-12T10:05:01.381527Z",
     "iopub.status.busy": "2024-02-12T10:05:01.380297Z",
     "iopub.status.idle": "2024-02-12T10:05:01.387505Z",
     "shell.execute_reply": "2024-02-12T10:05:01.386489Z"
    },
    "papermill": {
     "duration": 0.026002,
     "end_time": "2024-02-12T10:05:01.390261",
     "exception": false,
     "start_time": "2024-02-12T10:05:01.364259",
     "status": "completed"
    },
    "tags": []
   },
   "outputs": [],
   "source": [
    "def random_z_score():\n",
    "    return np.random.normal(0, 1)\n",
    "\n",
    "days = 20\n",
    "\n",
    "def scenario_gain_loss(portfolio_value, portfolio_std_dev, z_score, days):\n",
    "    return portfolio_value * portfolio_expected_return * days + portfolio_value * portfolio_std_dev * z_score * np.sqrt(days)"
   ]
  },
  {
   "cell_type": "code",
   "execution_count": 21,
   "id": "d9cc37a6",
   "metadata": {
    "execution": {
     "iopub.execute_input": "2024-02-12T10:05:01.421978Z",
     "iopub.status.busy": "2024-02-12T10:05:01.420645Z",
     "iopub.status.idle": "2024-02-12T10:05:01.464107Z",
     "shell.execute_reply": "2024-02-12T10:05:01.462709Z"
    },
    "papermill": {
     "duration": 0.062347,
     "end_time": "2024-02-12T10:05:01.467130",
     "exception": false,
     "start_time": "2024-02-12T10:05:01.404783",
     "status": "completed"
    },
    "tags": []
   },
   "outputs": [],
   "source": [
    "simulations = 10000\n",
    "scenarioReturn = []\n",
    "\n",
    "for i in range(simulations):\n",
    "    z_score = random_z_score()\n",
    "    scenarioReturn.append(scenario_gain_loss(portfolio_value, portfolio_std_dev, z_score, days))"
   ]
  },
  {
   "cell_type": "markdown",
   "id": "aee1a863",
   "metadata": {
    "papermill": {
     "duration": 0.01364,
     "end_time": "2024-02-12T10:05:01.495318",
     "exception": false,
     "start_time": "2024-02-12T10:05:01.481678",
     "status": "completed"
    },
    "tags": []
   },
   "source": [
    "## 0.99 confidence interval"
   ]
  },
  {
   "cell_type": "code",
   "execution_count": 22,
   "id": "75f5dcb2",
   "metadata": {
    "execution": {
     "iopub.execute_input": "2024-02-12T10:05:01.525540Z",
     "iopub.status.busy": "2024-02-12T10:05:01.525014Z",
     "iopub.status.idle": "2024-02-12T10:05:01.533446Z",
     "shell.execute_reply": "2024-02-12T10:05:01.532327Z"
    },
    "papermill": {
     "duration": 0.026428,
     "end_time": "2024-02-12T10:05:01.535721",
     "exception": false,
     "start_time": "2024-02-12T10:05:01.509293",
     "status": "completed"
    },
    "tags": []
   },
   "outputs": [
    {
     "name": "stdout",
     "output_type": "stream",
     "text": [
      "We expect to lose no more than 105963.15 of the value of our position, 99% of the time\n"
     ]
    }
   ],
   "source": [
    "confidence_interval = 0.99\n",
    "VaR = -np.percentile(scenarioReturn, 100 * (1 - confidence_interval))\n",
    "print('We expect to lose no more than ' + str(VaR.round(2)) + ' of the value of our position, 99% of the time')"
   ]
  },
  {
   "cell_type": "code",
   "execution_count": 23,
   "id": "70658659",
   "metadata": {
    "execution": {
     "iopub.execute_input": "2024-02-12T10:05:01.568772Z",
     "iopub.status.busy": "2024-02-12T10:05:01.567969Z",
     "iopub.status.idle": "2024-02-12T10:05:01.993681Z",
     "shell.execute_reply": "2024-02-12T10:05:01.992349Z"
    },
    "papermill": {
     "duration": 0.445829,
     "end_time": "2024-02-12T10:05:01.996386",
     "exception": false,
     "start_time": "2024-02-12T10:05:01.550557",
     "status": "completed"
    },
    "tags": []
   },
   "outputs": [
    {
     "data": {
      "image/png": "[encoded data removed]",
      "text/plain": [
       "<Figure size 640x480 with 1 Axes>"
      ]
     },
     "metadata": {},
     "output_type": "display_data"
    }
   ],
   "source": [
    "sns.histplot(scenarioReturn, bins=25, kde=True)\n",
    "plt.xlabel('Scenario Gain/Loss ($)')\n",
    "plt.ylabel('Frequency')\n",
    "plt.title(f'Distribution of Portfolio Gain/Loss Over {days} Days')\n",
    "plt.axvline(-VaR, color='r', linestyle='dashed', linewidth=2, label=f'VaR at {confidence_interval:.0%} confidence level')\n",
    "plt.legend()\n",
    "plt.show()"
   ]
  }
 ],
 "metadata": {
  "kaggle": {
   "accelerator": "none",
   "dataSources": [],
   "dockerImageVersionId": 30646,
   "isGpuEnabled": false,
   "isInternetEnabled": true,
   "language": "python",
   "sourceType": "notebook"
  },
  "kernelspec": {
   "display_name": "Python 3",
   "language": "python",
   "name": "python3"
  },
  "language_info": {
   "codemirror_mode": {
    "name": "ipython",
    "version": 3
   },
   "file_extension": ".py",
   "mimetype": "text/x-python",
   "name": "python",
   "nbconvert_exporter": "python",
   "pygments_lexer": "ipython3",
   "version": "3.10.13"
  },
  "papermill": {
   "default_parameters": {},
   "duration": 68.636844,
   "end_time": "2024-02-12T10:05:02.938264",
   "environment_variables": {},
   "exception": null,
   "input_path": "__notebook__.ipynb",
   "output_path": "__notebook__.ipynb",
   "parameters": {},
   "start_time": "2024-02-12T10:03:54.301420",
   "version": "2.5.0"
  }
 },
 "nbformat": 4,
 "nbformat_minor": 5
}
